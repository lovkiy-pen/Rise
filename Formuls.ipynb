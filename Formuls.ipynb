{
 "cells": [
  {
   "cell_type": "markdown",
   "metadata": {},
   "source": [
    "## Тяга\n",
    "$P=G\\omega_{B}\\;+\\;(p_{B}-p_{a})\\cdot F_{B} $\n",
    "\n",
    "$P=\\cfrac{k+1}{k}Ga_{кр}K(\\lambda_{B})-p_{a}\\cdot F_{B} $\n",
    "\n",
    "$P=(k+1)\\left(\\cfrac{2}{k+1}\\right)^\\cfrac{k}{k-1}\\cdot p_{0}F_{кр}K(\\lambda_{B})-p_{a}\\cdot F_{B}$\n",
    "\n",
    "$P=(\\lambda_{B}^2+1)\\left(1-\\cfrac{k-1}{k+1}\\lambda_{B}^2\\right)^\\cfrac{1}{k-1}\\cdot p_{0}F_{B}-p_{a}\\cdot F_{B}$"
   ]
  },
  {
   "cell_type": "markdown",
   "metadata": {},
   "source": [
    "## Импульс\n",
    "$I_{\\infty}=\\sqrt{2\\chi_{T}Q_{ж}}$\n",
    "\n",
    "$I_{уд}=\\cfrac{\\lambda_{B}}{\\lambda_{\\infty}}I_{\\infty}+\\cfrac{(p_{B}-p_{a})\\cdot F_{B}}{G}$\n",
    "\n",
    "$I_{уд}=\\cfrac{K(\\lambda_{B})}{K(\\lambda_{\\infty})}I_{\\infty}-\\cfrac{p_{a}\\cdot F_{B}}{G}$"
   ]
  },
  {
   "cell_type": "markdown",
   "metadata": {},
   "source": [
    "## Расход\n",
    "$G=\\cfrac{p_{0}F_{кр}}{\\beta}; \\; $\n",
    "$\\beta=\\cfrac{\\sqrt{RT_{0}}}{A_{1}(K)}; \\; $\n",
    "$A_{1}(K)=\\sqrt{k\\left(\\cfrac{2}{k+1}\\right)^\\cfrac{k+1}{k-1}}$\n",
    "\n",
    "$p^{1-\\nu}=\\cfrac{S_{г}u_{1}\\varphi_{t}(t_{н})\\varphi_{\\varkappa}(\\varkappa)\\delta\\sqrt{RT_{0}}}{A_{1}F_{кр}}$\n",
    "\n",
    "$u=u_{1}p^\\nu$\n",
    "\n",
    "$p(t_{н})=p_{+15}e^{\\cfrac{D_{t}(t_{н}-t_{N})}{1-\\nu}}$\n",
    "\n",
    "$\\varphi_{t}(t_{н})= e^\n",
    "{\\textstyle D_{t}(t_{н}-t_{N})} $\n",
    "\n",
    "$\\varphi_{\\varkappa}(\\varkappa)=1+A(\\varkappa - \\varkappa_{пор}); \\; \\varkappa=\\cfrac{S_{г}}{F_{св}}$"
   ]
  },
  {
   "cell_type": "markdown",
   "metadata": {},
   "source": [
    "## ГД функции\n",
    "$K(\\lambda)=\\cfrac{\\lambda+\\lambda^{-1}}{2}$\n",
    "\n",
    "$K_{\\infty}=\\cfrac{\\lambda_{\\infty}+\\lambda_{\\infty}^{-1}}{2}=\\cfrac{k}{\\sqrt{k^2-1}}$\n",
    "\n",
    "$\\lambda_{\\infty}=\\sqrt{\\cfrac{k+1}{k-1}}$\n",
    "\n",
    "$\\displaystyle \\tau(\\lambda)=\\frac{T}{T_{0}}=1-\\cfrac{k-1}{k+1}\\lambda^2$\n",
    "\n",
    "$\\displaystyle \\pi(\\lambda)=\\frac{p}{p_{0}}=\\big[\\tau(\\lambda)\\big]^{\\cfrac{k}{k-1}}$\n",
    "\n",
    "$\\varepsilon(\\lambda)=\\cfrac{\\rho}{\\rho_{0}}=\\big[\\tau(\\lambda)\\big]^{\\cfrac{1}{k-1}}$\n",
    "\n",
    "$q(\\lambda)=\\cfrac{F}{F_{кр}}=\\cfrac{\\varepsilon(1)}{\\varepsilon(\\lambda)\\lambda}$\n",
    "\n",
    "$M^2=\\cfrac{\\cfrac{2}{k+1}\\lambda^2}{1-\\cfrac{k-1}{k+1}\\lambda^2}$\n",
    "\n",
    "$\\lambda^2=\\cfrac{\\cfrac{k+1}{2}M^2}{1+\\cfrac{k-1}{2}M^2}$"
   ]
  }
 ],
 "metadata": {
  "kernelspec": {
   "display_name": "Python 3",
   "language": "python",
   "name": "python3"
  },
  "language_info": {
   "codemirror_mode": {
    "name": "ipython",
    "version": 3
   },
   "file_extension": ".py",
   "mimetype": "text/x-python",
   "name": "python",
   "nbconvert_exporter": "python",
   "pygments_lexer": "ipython3",
   "version": "3.6.3"
  }
 },
 "nbformat": 4,
 "nbformat_minor": 2
}
